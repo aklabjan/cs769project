{
 "cells": [
  {
   "cell_type": "code",
   "execution_count": 1,
   "id": "81061f51-ac0d-4dfc-8ee0-dd159a60b4d4",
   "metadata": {},
   "outputs": [],
   "source": [
    "from google.cloud import bigquery\n",
    "import time\n",
    "bq = bigquery.Client()"
   ]
  },
  {
   "cell_type": "code",
   "execution_count": 2,
   "id": "8b3ed3cf-6c49-4c24-be12-f898b9e1df33",
   "metadata": {},
   "outputs": [
    {
     "data": {
      "text/html": [
       "<div>\n",
       "<style scoped>\n",
       "    .dataframe tbody tr th:only-of-type {\n",
       "        vertical-align: middle;\n",
       "    }\n",
       "\n",
       "    .dataframe tbody tr th {\n",
       "        vertical-align: top;\n",
       "    }\n",
       "\n",
       "    .dataframe thead th {\n",
       "        text-align: right;\n",
       "    }\n",
       "</style>\n",
       "<table border=\"1\" class=\"dataframe\">\n",
       "  <thead>\n",
       "    <tr style=\"text-align: right;\">\n",
       "      <th></th>\n",
       "      <th>num_rows</th>\n",
       "    </tr>\n",
       "  </thead>\n",
       "  <tbody>\n",
       "    <tr>\n",
       "      <th>0</th>\n",
       "      <td>3233</td>\n",
       "    </tr>\n",
       "  </tbody>\n",
       "</table>\n",
       "</div>"
      ],
      "text/plain": [
       "   num_rows\n",
       "0      3233"
      ]
     },
     "execution_count": 2,
     "metadata": {},
     "output_type": "execute_result"
    }
   ],
   "source": [
    "q = bq.query(\n",
    "\"\"\"\n",
    "select count(*) as num_rows \n",
    "from bigquery-public-data.geo_us_boundaries.counties\n",
    "\"\"\")\n",
    "q.to_dataframe()"
   ]
  },
  {
   "cell_type": "code",
   "execution_count": 3,
   "id": "150d111e-a59e-4f89-8677-8ca3aab83b55",
   "metadata": {},
   "outputs": [
    {
     "data": {
      "text/plain": [
       "'55025'"
      ]
     },
     "execution_count": 3,
     "metadata": {},
     "output_type": "execute_result"
    }
   ],
   "source": [
    "#q1\n",
    "q1 = bq.query(\n",
    "    \"\"\"\n",
    "    SELECT geo_id\n",
    "    FROM bigquery-public-data.geo_us_boundaries.counties\n",
    "    WHERE county_name = 'Dane'\n",
    "    \"\"\",\n",
    "    job_config=bigquery.QueryJobConfig(use_query_cache=False)\n",
    ")\n",
    "dane_geo_id = q1.to_dataframe().loc[0, 'geo_id']\n",
    "dane_geo_id"
   ]
  },
  {
   "cell_type": "code",
   "execution_count": 4,
   "id": "3a26e580-6f17-427b-9da2-b941ddb9c29d",
   "metadata": {},
   "outputs": [
    {
     "data": {
      "text/plain": [
       "{'48': 254, '13': 159, '51': 133, '21': 120, '29': 115}"
      ]
     },
     "execution_count": 4,
     "metadata": {},
     "output_type": "execute_result"
    }
   ],
   "source": [
    "#q2\n",
    "q2 = bq.query(\n",
    "    \"\"\"\n",
    "    SELECT state_fips_code, COUNT(*) as num_counties\n",
    "    FROM bigquery-public-data.geo_us_boundaries.counties\n",
    "    GROUP BY state_fips_code\n",
    "    ORDER BY num_counties DESC\n",
    "    LIMIT 5\n",
    "    \"\"\",\n",
    "    job_config=bigquery.QueryJobConfig(use_query_cache=False)\n",
    ")\n",
    "counties_per_state = q2.to_dataframe().set_index('state_fips_code')['num_counties'].to_dict()\n",
    "counties_per_state"
   ]
  },
  {
   "cell_type": "code",
   "execution_count": 5,
   "id": "59263b59-33c3-4906-9001-059fbb03fe5d",
   "metadata": {},
   "outputs": [
    {
     "data": {
      "text/plain": [
       "{'q1': 1.9073486328125e-07, 'q2': 1.9073486328125e-07}"
      ]
     },
     "execution_count": 5,
     "metadata": {},
     "output_type": "execute_result"
    }
   ],
   "source": [
    "#q3\n",
    "cost_per_tb_iowa = 0.02  # Replace with the actual cost per terabyte for Iowa\n",
    "bytes_billed_q1 = q1.total_bytes_billed\n",
    "bytes_billed_q2 = q2.total_bytes_billed\n",
    "\n",
    "cost_q1 = (bytes_billed_q1 / (1024 ** 4)) * cost_per_tb_iowa\n",
    "cost_q2 = (bytes_billed_q2 / (1024 ** 4)) * cost_per_tb_iowa\n",
    "\n",
    "answer = {'q1': cost_q1, 'q2': cost_q2}\n",
    "answer"
   ]
  },
  {
   "cell_type": "code",
   "execution_count": 6,
   "id": "16dce1bb-5ec8-4236-88dc-7e0ec8a87cc9",
   "metadata": {},
   "outputs": [
    {
     "data": {
      "text/plain": [
       "LoadJob<project=cs-544-398216, location=US, id=91735cca-fe09-4cce-98ae-78fd180451ad>"
      ]
     },
     "execution_count": 6,
     "metadata": {},
     "output_type": "execute_result"
    }
   ],
   "source": [
    "project = 'cs-544-398216'\n",
    "dataset = 'p8'\n",
    "table = 'hdma'\n",
    "ds = bigquery.Dataset(f'{project}.{dataset}')\n",
    "bq.create_dataset(ds,exists_ok=True)\n",
    "table_id = f'{project}.{dataset}.{table}'\n",
    "url = 'gs://cs544_p8_ana/hdma-wi-2021.parquet'\n",
    "\n",
    "# Define the job configuration\n",
    "config = bigquery.LoadJobConfig(\n",
    "    source_format=\"PARQUET\",\n",
    "    write_disposition=\"WRITE_TRUNCATE\"\n",
    ")\n",
    "\n",
    "# Load the Parquet data into a BigQuery table\n",
    "job = bq.load_table_from_uri(url, table_id, job_config=config)\n",
    "job.result()"
   ]
  },
  {
   "cell_type": "code",
   "execution_count": 7,
   "id": "e1438b41-f0d8-4380-b2de-d8a0e1f7e38c",
   "metadata": {},
   "outputs": [
    {
     "data": {
      "text/plain": [
       "['p8']"
      ]
     },
     "execution_count": 7,
     "metadata": {},
     "output_type": "execute_result"
    }
   ],
   "source": [
    "#q4\n",
    "[ds.dataset_id for ds in bq.list_datasets(project)] # PASTE your project name"
   ]
  },
  {
   "cell_type": "code",
   "execution_count": 8,
   "id": "7bb21b2a-c17a-4da9-b1bf-754b45c70e21",
   "metadata": {},
   "outputs": [
    {
     "data": {
      "text/plain": [
       "{'Milwaukee': 46570,\n",
       " 'Dane': 38557,\n",
       " 'Waukesha': 34159,\n",
       " 'Brown': 15615,\n",
       " 'Racine': 13007,\n",
       " 'Outagamie': 11523,\n",
       " 'Kenosha': 10744,\n",
       " 'Washington': 10726,\n",
       " 'Rock': 9834,\n",
       " 'Winnebago': 9310}"
      ]
     },
     "execution_count": 8,
     "metadata": {},
     "output_type": "execute_result"
    }
   ],
   "source": [
    "#q5\n",
    "query_top_counties = \"\"\"\n",
    "WITH TopCounties AS (\n",
    "  SELECT\n",
    "    counties.county_name,\n",
    "    COUNT(*) AS loan_count\n",
    "  FROM\n",
    "    cs-544-398216.p8.hdma AS hdma\n",
    "  JOIN\n",
    "    bigquery-public-data.geo_us_boundaries.counties AS counties\n",
    "  ON\n",
    "    counties.county_fips_code = hdma.county_code\n",
    "  GROUP BY\n",
    "    counties.county_name\n",
    "  ORDER BY\n",
    "    loan_count DESC\n",
    "  LIMIT 10\n",
    ")\n",
    "\n",
    "SELECT\n",
    "  county_name,\n",
    "  loan_count\n",
    "FROM\n",
    "  TopCounties\n",
    "\"\"\"\n",
    "\n",
    "result_top_counties = bq.query(query_top_counties)\n",
    "\n",
    "top_counties_dict = {row['county_name']: row['loan_count'] for row in result_top_counties}\n",
    "top_counties_dict"
   ]
  },
  {
   "cell_type": "code",
   "execution_count": 9,
   "id": "6a3815a2-2f42-47f9-a0af-135a216082e5",
   "metadata": {},
   "outputs": [],
   "source": [
    "url = \"https://docs.google.com/spreadsheets/d/11UeIBqQylAyNUBsIO54p6WiYJWHayQMfHDbUWq1jGco/\"\n",
    "\n",
    "external_config = bigquery.ExternalConfig(\"GOOGLE_SHEETS\")\n",
    "external_config.source_uris = [url]\n",
    "external_config.options.skip_leading_rows = 1\n",
    "external_config.autodetect = True\n",
    "\n",
    "table = bigquery.Table(f'{project}.{dataset}.applications')\n",
    "table.external_data_configuration = external_config\n",
    "\n",
    "table = bq.create_table(table, exists_ok=True)"
   ]
  },
  {
   "cell_type": "code",
   "execution_count": 10,
   "id": "003d8a8c-61ac-4c2d-b54e-8e7f25dd312e",
   "metadata": {},
   "outputs": [
    {
     "data": {
      "text/plain": [
       "2"
      ]
     },
     "execution_count": 10,
     "metadata": {},
     "output_type": "execute_result"
    }
   ],
   "source": [
    "#q6\n",
    "query_string = \"\"\"\n",
    "SELECT\n",
    "  count(*) as count\n",
    "FROM\n",
    "  cs-544-398216.p8.applications\n",
    "WHERE income = 80000\n",
    "\"\"\"\n",
    "bq.query(query_string).to_dataframe().iloc[0]['count']"
   ]
  },
  {
   "cell_type": "code",
   "execution_count": 11,
   "id": "b8f6583c-fa9c-4018-9122-6cac166ebe81",
   "metadata": {},
   "outputs": [
    {
     "data": {
      "text/plain": [
       "{'Door': 4,\n",
       " 'Walworth': 2,\n",
       " 'Sheboygan': 2,\n",
       " 'Bayfield': 1,\n",
       " 'Kewaunee': 1,\n",
       " 'Monroe': 1,\n",
       " 'Barron': 2,\n",
       " 'Outagamie': 1,\n",
       " 'Columbia': 1,\n",
       " 'Brown': 2,\n",
       " 'Oneida': 1,\n",
       " 'Dane': 8,\n",
       " 'Green Lake': 1,\n",
       " 'Marinette': 2,\n",
       " 'Sauk': 1,\n",
       " 'Jefferson': 1}"
      ]
     },
     "execution_count": 11,
     "metadata": {},
     "output_type": "execute_result"
    }
   ],
   "source": [
    "#q7\n",
    "query = \"\"\"\n",
    "WITH Points AS (\n",
    "  SELECT\n",
    "    ST_GEOGPOINT(longitude, latitude) AS point,\n",
    "    county_name\n",
    "  FROM\n",
    "    cs-544-398216.p8.applications AS sheet\n",
    "  JOIN\n",
    "    bigquery-public-data.geo_us_boundaries.counties AS counties\n",
    "  ON\n",
    "    ST_CONTAINS(counties.county_geom, ST_GEOGPOINT(longitude, latitude))\n",
    "    AND counties.state_fips_code = '55'\n",
    ")\n",
    "\n",
    "SELECT\n",
    "  county_name,\n",
    "  COUNT(*) AS count\n",
    "FROM\n",
    "  Points\n",
    "GROUP BY\n",
    "  county_name\n",
    "\"\"\"\n",
    "\n",
    "# Execute the query\n",
    "query_job = bq.query(query)\n",
    "\n",
    "{row['county_name']: row['count'] for row in query_job}"
   ]
  },
  {
   "cell_type": "code",
   "execution_count": 12,
   "id": "99480a45-add9-41a4-ac1d-16c456ff8459",
   "metadata": {},
   "outputs": [],
   "source": [
    "model = 'loan_model'\n",
    "table = 'hdma'\n",
    "linear_regression_query = f\"\"\"\n",
    "CREATE OR REPLACE MODEL `{project}.{dataset}.{model}`\n",
    "OPTIONS(model_type='linear_reg') AS\n",
    "SELECT\n",
    "  income,\n",
    "  loan_term,\n",
    "  loan_amount\n",
    "FROM\n",
    "  `{project}.{dataset}.{table}`\n",
    "\"\"\"\n",
    "\n",
    "# Execute the linear regression query\n",
    "query_job = bq.query(linear_regression_query)"
   ]
  },
  {
   "cell_type": "code",
   "execution_count": 13,
   "id": "0a0b12aa-ac6d-427c-ad56-fbb16841a951",
   "metadata": {},
   "outputs": [],
   "source": [
    "# Wait until the model is created (polling)\n",
    "count = 0\n",
    "while True:\n",
    "    models = list(bq.list_models(f'{project}.{dataset}'))\n",
    "    if any(model_n.model_id == model for model_n in models):\n",
    "        break\n",
    "    time.sleep(5)\n",
    "    count += 5\n",
    "    if count > 120:\n",
    "        break"
   ]
  },
  {
   "cell_type": "code",
   "execution_count": 14,
   "id": "9430115e-ea73-43bc-9faa-7a8257048707",
   "metadata": {},
   "outputs": [
    {
     "ename": "NotFound",
     "evalue": "404 Not found: Model cs-544-398216:p8.loan_model\n\nLocation: US\nJob ID: a9a6c27f-27c3-4591-bdf3-39a62f0d85c6\n",
     "output_type": "error",
     "traceback": [
      "\u001b[0;31m---------------------------------------------------------------------------\u001b[0m",
      "\u001b[0;31mNotFound\u001b[0m                                  Traceback (most recent call last)",
      "Cell \u001b[0;32mIn[14], line 20\u001b[0m\n\u001b[1;32m      2\u001b[0m evaluation_query \u001b[38;5;241m=\u001b[39m \u001b[38;5;124mf\u001b[39m\u001b[38;5;124m\"\"\"\u001b[39m\n\u001b[1;32m      3\u001b[0m \u001b[38;5;124mSELECT\u001b[39m\n\u001b[1;32m      4\u001b[0m \u001b[38;5;124m  loan_amount AS true_loan_amount,\u001b[39m\n\u001b[0;32m   (...)\u001b[0m\n\u001b[1;32m     16\u001b[0m \u001b[38;5;124m  )\u001b[39m\n\u001b[1;32m     17\u001b[0m \u001b[38;5;124m\"\"\"\u001b[39m\n\u001b[1;32m     19\u001b[0m \u001b[38;5;66;03m# Execute the evaluation query\u001b[39;00m\n\u001b[0;32m---> 20\u001b[0m predictions \u001b[38;5;241m=\u001b[39m \u001b[43mbq\u001b[49m\u001b[38;5;241;43m.\u001b[39;49m\u001b[43mquery\u001b[49m\u001b[43m(\u001b[49m\u001b[43mevaluation_query\u001b[49m\u001b[43m)\u001b[49m\u001b[38;5;241;43m.\u001b[39;49m\u001b[43mto_dataframe\u001b[49m\u001b[43m(\u001b[49m\u001b[43m)\u001b[49m\n\u001b[1;32m     22\u001b[0m \u001b[38;5;66;03m# Calculate r2_score\u001b[39;00m\n\u001b[1;32m     23\u001b[0m r2 \u001b[38;5;241m=\u001b[39m r2_score(predictions[\u001b[38;5;124m'\u001b[39m\u001b[38;5;124mtrue_loan_amount\u001b[39m\u001b[38;5;124m'\u001b[39m], predictions[\u001b[38;5;124m'\u001b[39m\u001b[38;5;124mpredicted_loan_amount\u001b[39m\u001b[38;5;124m'\u001b[39m])\n",
      "File \u001b[0;32m~/.local/lib/python3.10/site-packages/google/cloud/bigquery/job/query.py:1859\u001b[0m, in \u001b[0;36mQueryJob.to_dataframe\u001b[0;34m(self, bqstorage_client, dtypes, progress_bar_type, create_bqstorage_client, max_results, geography_as_object, bool_dtype, int_dtype, float_dtype, string_dtype, date_dtype, datetime_dtype, time_dtype, timestamp_dtype)\u001b[0m\n\u001b[1;32m   1693\u001b[0m \u001b[38;5;28;01mdef\u001b[39;00m \u001b[38;5;21mto_dataframe\u001b[39m(\n\u001b[1;32m   1694\u001b[0m     \u001b[38;5;28mself\u001b[39m,\n\u001b[1;32m   1695\u001b[0m     bqstorage_client: Optional[\u001b[38;5;124m\"\u001b[39m\u001b[38;5;124mbigquery_storage.BigQueryReadClient\u001b[39m\u001b[38;5;124m\"\u001b[39m] \u001b[38;5;241m=\u001b[39m \u001b[38;5;28;01mNone\u001b[39;00m,\n\u001b[0;32m   (...)\u001b[0m\n\u001b[1;32m   1708\u001b[0m     timestamp_dtype: Union[Any, \u001b[38;5;28;01mNone\u001b[39;00m] \u001b[38;5;241m=\u001b[39m \u001b[38;5;28;01mNone\u001b[39;00m,\n\u001b[1;32m   1709\u001b[0m ) \u001b[38;5;241m-\u001b[39m\u001b[38;5;241m>\u001b[39m \u001b[38;5;124m\"\u001b[39m\u001b[38;5;124mpandas.DataFrame\u001b[39m\u001b[38;5;124m\"\u001b[39m:\n\u001b[1;32m   1710\u001b[0m \u001b[38;5;250m    \u001b[39m\u001b[38;5;124;03m\"\"\"Return a pandas DataFrame from a QueryJob\u001b[39;00m\n\u001b[1;32m   1711\u001b[0m \n\u001b[1;32m   1712\u001b[0m \u001b[38;5;124;03m    Args:\u001b[39;00m\n\u001b[0;32m   (...)\u001b[0m\n\u001b[1;32m   1857\u001b[0m \u001b[38;5;124;03m            :mod:`shapely` library cannot be imported.\u001b[39;00m\n\u001b[1;32m   1858\u001b[0m \u001b[38;5;124;03m    \"\"\"\u001b[39;00m\n\u001b[0;32m-> 1859\u001b[0m     query_result \u001b[38;5;241m=\u001b[39m \u001b[43mwait_for_query\u001b[49m\u001b[43m(\u001b[49m\u001b[38;5;28;43mself\u001b[39;49m\u001b[43m,\u001b[49m\u001b[43m \u001b[49m\u001b[43mprogress_bar_type\u001b[49m\u001b[43m,\u001b[49m\u001b[43m \u001b[49m\u001b[43mmax_results\u001b[49m\u001b[38;5;241;43m=\u001b[39;49m\u001b[43mmax_results\u001b[49m\u001b[43m)\u001b[49m\n\u001b[1;32m   1860\u001b[0m     \u001b[38;5;28;01mreturn\u001b[39;00m query_result\u001b[38;5;241m.\u001b[39mto_dataframe(\n\u001b[1;32m   1861\u001b[0m         bqstorage_client\u001b[38;5;241m=\u001b[39mbqstorage_client,\n\u001b[1;32m   1862\u001b[0m         dtypes\u001b[38;5;241m=\u001b[39mdtypes,\n\u001b[0;32m   (...)\u001b[0m\n\u001b[1;32m   1873\u001b[0m         timestamp_dtype\u001b[38;5;241m=\u001b[39mtimestamp_dtype,\n\u001b[1;32m   1874\u001b[0m     )\n",
      "File \u001b[0;32m~/.local/lib/python3.10/site-packages/google/cloud/bigquery/_tqdm_helpers.py:104\u001b[0m, in \u001b[0;36mwait_for_query\u001b[0;34m(query_job, progress_bar_type, max_results)\u001b[0m\n\u001b[1;32m    100\u001b[0m progress_bar \u001b[38;5;241m=\u001b[39m get_progress_bar(\n\u001b[1;32m    101\u001b[0m     progress_bar_type, \u001b[38;5;124m\"\u001b[39m\u001b[38;5;124mQuery is running\u001b[39m\u001b[38;5;124m\"\u001b[39m, default_total, \u001b[38;5;124m\"\u001b[39m\u001b[38;5;124mquery\u001b[39m\u001b[38;5;124m\"\u001b[39m\n\u001b[1;32m    102\u001b[0m )\n\u001b[1;32m    103\u001b[0m \u001b[38;5;28;01mif\u001b[39;00m progress_bar \u001b[38;5;129;01mis\u001b[39;00m \u001b[38;5;28;01mNone\u001b[39;00m:\n\u001b[0;32m--> 104\u001b[0m     \u001b[38;5;28;01mreturn\u001b[39;00m \u001b[43mquery_job\u001b[49m\u001b[38;5;241;43m.\u001b[39;49m\u001b[43mresult\u001b[49m\u001b[43m(\u001b[49m\u001b[43mmax_results\u001b[49m\u001b[38;5;241;43m=\u001b[39;49m\u001b[43mmax_results\u001b[49m\u001b[43m)\u001b[49m\n\u001b[1;32m    106\u001b[0m i \u001b[38;5;241m=\u001b[39m \u001b[38;5;241m0\u001b[39m\n\u001b[1;32m    107\u001b[0m \u001b[38;5;28;01mwhile\u001b[39;00m \u001b[38;5;28;01mTrue\u001b[39;00m:\n",
      "File \u001b[0;32m~/.local/lib/python3.10/site-packages/google/cloud/bigquery/job/query.py:1580\u001b[0m, in \u001b[0;36mQueryJob.result\u001b[0;34m(self, page_size, max_results, retry, timeout, start_index, job_retry)\u001b[0m\n\u001b[1;32m   1577\u001b[0m     \u001b[38;5;28;01mif\u001b[39;00m retry_do_query \u001b[38;5;129;01mis\u001b[39;00m \u001b[38;5;129;01mnot\u001b[39;00m \u001b[38;5;28;01mNone\u001b[39;00m \u001b[38;5;129;01mand\u001b[39;00m job_retry \u001b[38;5;129;01mis\u001b[39;00m \u001b[38;5;129;01mnot\u001b[39;00m \u001b[38;5;28;01mNone\u001b[39;00m:\n\u001b[1;32m   1578\u001b[0m         do_get_result \u001b[38;5;241m=\u001b[39m job_retry(do_get_result)\n\u001b[0;32m-> 1580\u001b[0m     \u001b[43mdo_get_result\u001b[49m\u001b[43m(\u001b[49m\u001b[43m)\u001b[49m\n\u001b[1;32m   1582\u001b[0m \u001b[38;5;28;01mexcept\u001b[39;00m exceptions\u001b[38;5;241m.\u001b[39mGoogleAPICallError \u001b[38;5;28;01mas\u001b[39;00m exc:\n\u001b[1;32m   1583\u001b[0m     exc\u001b[38;5;241m.\u001b[39mmessage \u001b[38;5;241m=\u001b[39m _EXCEPTION_FOOTER_TEMPLATE\u001b[38;5;241m.\u001b[39mformat(\n\u001b[1;32m   1584\u001b[0m         message\u001b[38;5;241m=\u001b[39mexc\u001b[38;5;241m.\u001b[39mmessage, location\u001b[38;5;241m=\u001b[39m\u001b[38;5;28mself\u001b[39m\u001b[38;5;241m.\u001b[39mlocation, job_id\u001b[38;5;241m=\u001b[39m\u001b[38;5;28mself\u001b[39m\u001b[38;5;241m.\u001b[39mjob_id\n\u001b[1;32m   1585\u001b[0m     )\n",
      "File \u001b[0;32m~/.local/lib/python3.10/site-packages/google/api_core/retry.py:372\u001b[0m, in \u001b[0;36mRetry.__call__.<locals>.retry_wrapped_func\u001b[0;34m(*args, **kwargs)\u001b[0m\n\u001b[1;32m    368\u001b[0m target \u001b[38;5;241m=\u001b[39m functools\u001b[38;5;241m.\u001b[39mpartial(func, \u001b[38;5;241m*\u001b[39margs, \u001b[38;5;241m*\u001b[39m\u001b[38;5;241m*\u001b[39mkwargs)\n\u001b[1;32m    369\u001b[0m sleep_generator \u001b[38;5;241m=\u001b[39m exponential_sleep_generator(\n\u001b[1;32m    370\u001b[0m     \u001b[38;5;28mself\u001b[39m\u001b[38;5;241m.\u001b[39m_initial, \u001b[38;5;28mself\u001b[39m\u001b[38;5;241m.\u001b[39m_maximum, multiplier\u001b[38;5;241m=\u001b[39m\u001b[38;5;28mself\u001b[39m\u001b[38;5;241m.\u001b[39m_multiplier\n\u001b[1;32m    371\u001b[0m )\n\u001b[0;32m--> 372\u001b[0m \u001b[38;5;28;01mreturn\u001b[39;00m \u001b[43mretry_target\u001b[49m\u001b[43m(\u001b[49m\n\u001b[1;32m    373\u001b[0m \u001b[43m    \u001b[49m\u001b[43mtarget\u001b[49m\u001b[43m,\u001b[49m\n\u001b[1;32m    374\u001b[0m \u001b[43m    \u001b[49m\u001b[38;5;28;43mself\u001b[39;49m\u001b[38;5;241;43m.\u001b[39;49m\u001b[43m_predicate\u001b[49m\u001b[43m,\u001b[49m\n\u001b[1;32m    375\u001b[0m \u001b[43m    \u001b[49m\u001b[43msleep_generator\u001b[49m\u001b[43m,\u001b[49m\n\u001b[1;32m    376\u001b[0m \u001b[43m    \u001b[49m\u001b[38;5;28;43mself\u001b[39;49m\u001b[38;5;241;43m.\u001b[39;49m\u001b[43m_timeout\u001b[49m\u001b[43m,\u001b[49m\n\u001b[1;32m    377\u001b[0m \u001b[43m    \u001b[49m\u001b[43mon_error\u001b[49m\u001b[38;5;241;43m=\u001b[39;49m\u001b[43mon_error\u001b[49m\u001b[43m,\u001b[49m\n\u001b[1;32m    378\u001b[0m \u001b[43m\u001b[49m\u001b[43m)\u001b[49m\n",
      "File \u001b[0;32m~/.local/lib/python3.10/site-packages/google/api_core/retry.py:207\u001b[0m, in \u001b[0;36mretry_target\u001b[0;34m(target, predicate, sleep_generator, timeout, on_error, **kwargs)\u001b[0m\n\u001b[1;32m    205\u001b[0m \u001b[38;5;28;01mfor\u001b[39;00m sleep \u001b[38;5;129;01min\u001b[39;00m sleep_generator:\n\u001b[1;32m    206\u001b[0m     \u001b[38;5;28;01mtry\u001b[39;00m:\n\u001b[0;32m--> 207\u001b[0m         result \u001b[38;5;241m=\u001b[39m \u001b[43mtarget\u001b[49m\u001b[43m(\u001b[49m\u001b[43m)\u001b[49m\n\u001b[1;32m    208\u001b[0m         \u001b[38;5;28;01mif\u001b[39;00m inspect\u001b[38;5;241m.\u001b[39misawaitable(result):\n\u001b[1;32m    209\u001b[0m             warnings\u001b[38;5;241m.\u001b[39mwarn(_ASYNC_RETRY_WARNING)\n",
      "File \u001b[0;32m~/.local/lib/python3.10/site-packages/google/cloud/bigquery/job/query.py:1570\u001b[0m, in \u001b[0;36mQueryJob.result.<locals>.do_get_result\u001b[0;34m()\u001b[0m\n\u001b[1;32m   1567\u001b[0m     \u001b[38;5;28mself\u001b[39m\u001b[38;5;241m.\u001b[39m_retry_do_query \u001b[38;5;241m=\u001b[39m retry_do_query\n\u001b[1;32m   1568\u001b[0m     \u001b[38;5;28mself\u001b[39m\u001b[38;5;241m.\u001b[39m_job_retry \u001b[38;5;241m=\u001b[39m job_retry\n\u001b[0;32m-> 1570\u001b[0m \u001b[38;5;28;43msuper\u001b[39;49m\u001b[43m(\u001b[49m\u001b[43mQueryJob\u001b[49m\u001b[43m,\u001b[49m\u001b[43m \u001b[49m\u001b[38;5;28;43mself\u001b[39;49m\u001b[43m)\u001b[49m\u001b[38;5;241;43m.\u001b[39;49m\u001b[43mresult\u001b[49m\u001b[43m(\u001b[49m\u001b[43mretry\u001b[49m\u001b[38;5;241;43m=\u001b[39;49m\u001b[43mretry\u001b[49m\u001b[43m,\u001b[49m\u001b[43m \u001b[49m\u001b[43mtimeout\u001b[49m\u001b[38;5;241;43m=\u001b[39;49m\u001b[43mtimeout\u001b[49m\u001b[43m)\u001b[49m\n\u001b[1;32m   1572\u001b[0m \u001b[38;5;66;03m# Since the job could already be \"done\" (e.g. got a finished job\u001b[39;00m\n\u001b[1;32m   1573\u001b[0m \u001b[38;5;66;03m# via client.get_job), the superclass call to done() might not\u001b[39;00m\n\u001b[1;32m   1574\u001b[0m \u001b[38;5;66;03m# set the self._query_results cache.\u001b[39;00m\n\u001b[1;32m   1575\u001b[0m \u001b[38;5;28mself\u001b[39m\u001b[38;5;241m.\u001b[39m_reload_query_results(retry\u001b[38;5;241m=\u001b[39mretry, timeout\u001b[38;5;241m=\u001b[39mtimeout)\n",
      "File \u001b[0;32m~/.local/lib/python3.10/site-packages/google/cloud/bigquery/job/base.py:922\u001b[0m, in \u001b[0;36m_AsyncJob.result\u001b[0;34m(self, retry, timeout)\u001b[0m\n\u001b[1;32m    919\u001b[0m     \u001b[38;5;28mself\u001b[39m\u001b[38;5;241m.\u001b[39m_begin(retry\u001b[38;5;241m=\u001b[39mretry, timeout\u001b[38;5;241m=\u001b[39mtimeout)\n\u001b[1;32m    921\u001b[0m kwargs \u001b[38;5;241m=\u001b[39m {} \u001b[38;5;28;01mif\u001b[39;00m retry \u001b[38;5;129;01mis\u001b[39;00m DEFAULT_RETRY \u001b[38;5;28;01melse\u001b[39;00m {\u001b[38;5;124m\"\u001b[39m\u001b[38;5;124mretry\u001b[39m\u001b[38;5;124m\"\u001b[39m: retry}\n\u001b[0;32m--> 922\u001b[0m \u001b[38;5;28;01mreturn\u001b[39;00m \u001b[38;5;28;43msuper\u001b[39;49m\u001b[43m(\u001b[49m\u001b[43m_AsyncJob\u001b[49m\u001b[43m,\u001b[49m\u001b[43m \u001b[49m\u001b[38;5;28;43mself\u001b[39;49m\u001b[43m)\u001b[49m\u001b[38;5;241;43m.\u001b[39;49m\u001b[43mresult\u001b[49m\u001b[43m(\u001b[49m\u001b[43mtimeout\u001b[49m\u001b[38;5;241;43m=\u001b[39;49m\u001b[43mtimeout\u001b[49m\u001b[43m,\u001b[49m\u001b[43m \u001b[49m\u001b[38;5;241;43m*\u001b[39;49m\u001b[38;5;241;43m*\u001b[39;49m\u001b[43mkwargs\u001b[49m\u001b[43m)\u001b[49m\n",
      "File \u001b[0;32m~/.local/lib/python3.10/site-packages/google/api_core/future/polling.py:261\u001b[0m, in \u001b[0;36mPollingFuture.result\u001b[0;34m(self, timeout, retry, polling)\u001b[0m\n\u001b[1;32m    256\u001b[0m \u001b[38;5;28mself\u001b[39m\u001b[38;5;241m.\u001b[39m_blocking_poll(timeout\u001b[38;5;241m=\u001b[39mtimeout, retry\u001b[38;5;241m=\u001b[39mretry, polling\u001b[38;5;241m=\u001b[39mpolling)\n\u001b[1;32m    258\u001b[0m \u001b[38;5;28;01mif\u001b[39;00m \u001b[38;5;28mself\u001b[39m\u001b[38;5;241m.\u001b[39m_exception \u001b[38;5;129;01mis\u001b[39;00m \u001b[38;5;129;01mnot\u001b[39;00m \u001b[38;5;28;01mNone\u001b[39;00m:\n\u001b[1;32m    259\u001b[0m     \u001b[38;5;66;03m# pylint: disable=raising-bad-type\u001b[39;00m\n\u001b[1;32m    260\u001b[0m     \u001b[38;5;66;03m# Pylint doesn't recognize that this is valid in this case.\u001b[39;00m\n\u001b[0;32m--> 261\u001b[0m     \u001b[38;5;28;01mraise\u001b[39;00m \u001b[38;5;28mself\u001b[39m\u001b[38;5;241m.\u001b[39m_exception\n\u001b[1;32m    263\u001b[0m \u001b[38;5;28;01mreturn\u001b[39;00m \u001b[38;5;28mself\u001b[39m\u001b[38;5;241m.\u001b[39m_result\n",
      "\u001b[0;31mNotFound\u001b[0m: 404 Not found: Model cs-544-398216:p8.loan_model\n\nLocation: US\nJob ID: a9a6c27f-27c3-4591-bdf3-39a62f0d85c6\n"
     ]
    }
   ],
   "source": [
    "#q8\n",
    "evaluation_query = f\"\"\"\n",
    "SELECT\n",
    "  loan_amount AS true_loan_amount,\n",
    "  predicted_loan_amount\n",
    "FROM\n",
    "  ML.PREDICT(MODEL `{project}.{dataset}.{model}`,\n",
    "    (\n",
    "      SELECT\n",
    "        income,\n",
    "        loan_term,\n",
    "        loan_amount\n",
    "      FROM\n",
    "        `{project}.{dataset}.{table}`\n",
    "    )\n",
    "  )\n",
    "\"\"\"\n",
    "\n",
    "# Execute the evaluation query\n",
    "predictions = bq.query(evaluation_query).to_dataframe()\n",
    "\n",
    "# Calculate r2_score\n",
    "r2 = r2_score(predictions['true_loan_amount'], predictions['predicted_loan_amount'])\n",
    "r2"
   ]
  },
  {
   "cell_type": "code",
   "execution_count": null,
   "id": "72dd01d2-e832-4321-9505-5caa6564655b",
   "metadata": {},
   "outputs": [],
   "source": [
    "#q9\n",
    "weights_query = f\"\"\"\n",
    "SELECT\n",
    "  *\n",
    "FROM\n",
    "  ML.WEIGHTS(MODEL `{project}.{dataset}.{model}`)\n",
    "\"\"\"\n",
    "\n",
    "# Execute the query\n",
    "weights_result = bq.query(weights_query).to_dataframe()\n",
    "\n",
    "# Extract the coefficient weight on the 'income' column\n",
    "weights_result.loc[weights_result['input'] == 'income', 'weight'].values[0]"
   ]
  },
  {
   "cell_type": "code",
   "execution_count": null,
   "id": "3fec6557-320b-40b7-8c46-b54a2f2e8d15",
   "metadata": {},
   "outputs": [],
   "source": [
    "#q10\n",
    "# Query to get predictions from the model for Google Form data\n",
    "google = 'applications'\n",
    "predictions_query = f\"\"\"\n",
    "SELECT\n",
    "  income,\n",
    "  360 AS loan_term,  -- Assume loan term is 360 months (30 years)\n",
    "  ML.PREDICT(MODEL `{project}.{dataset}.{model}`,\n",
    "    STRUCT(income, 360) AS features) AS predicted_loan_amount\n",
    "FROM\n",
    "  `{project}.{dataset}.{google}`\n",
    "\"\"\"\n",
    "\n",
    "# Execute the query\n",
    "predictions_df = bq.query(predictions_query).to_dataframe()\n",
    "\n",
    "# Calculate the ratio of loan applications with amounts greater than predicted\n",
    "total_applications = len(predictions_df)\n",
    "greater_than_predicted = len(predictions_df[predictions_df['actual_loan_amount'] > predictions_df['predicted_loan_amount']])\n",
    "\n",
    "ratio_greater_than_predicted = greater_than_predicted / total_applications"
   ]
  }
 ],
 "metadata": {
  "kernelspec": {
   "display_name": "Python 3 (ipykernel)",
   "language": "python",
   "name": "python3"
  },
  "language_info": {
   "codemirror_mode": {
    "name": "ipython",
    "version": 3
   },
   "file_extension": ".py",
   "mimetype": "text/x-python",
   "name": "python",
   "nbconvert_exporter": "python",
   "pygments_lexer": "ipython3",
   "version": "3.10.12"
  }
 },
 "nbformat": 4,
 "nbformat_minor": 5
}
