{
 "cells": [
  {
   "cell_type": "code",
   "execution_count": 20,
   "id": "efaf07ce-f099-4d35-b816-324dbf9d247c",
   "metadata": {},
   "outputs": [],
   "source": [
    "import pandas as pd\n",
    "\n",
    "def join_tsv_files(file1_path, file2_path, output_path):\n",
    "    # Read the TSV files into pandas DataFrames without column names\n",
    "    df1 = pd.read_csv(file1_path, sep='\\t', header=None)\n",
    "    df2 = pd.read_csv(file2_path, sep='\\t', header=None)\n",
    "\n",
    "    # Perform left join on the third column (assuming third column index is 2)\n",
    "    result_df = pd.merge(df1, df2, left_on=2, right_on=2, how='left')\n",
    "    result_df[['0_x','1_y',2]].to_csv(output_path, sep='\\t', index=False, header=False)\n"
   ]
  },
  {
   "cell_type": "code",
   "execution_count": 22,
   "id": "9909a56d-7a6c-4bad-8b4c-057cd10970b4",
   "metadata": {},
   "outputs": [],
   "source": [
    "join_tsv_files('original/balanced_train.csv', 'ekman/train.tsv', 'ekman/balanced_train.tsv')"
   ]
  },
  {
   "cell_type": "code",
   "execution_count": null,
   "id": "8019c8b3-93be-4261-8d1d-6a9f7a63f538",
   "metadata": {},
   "outputs": [],
   "source": []
  }
 ],
 "metadata": {
  "kernelspec": {
   "display_name": "Python 3 (ipykernel)",
   "language": "python",
   "name": "python3"
  },
  "language_info": {
   "codemirror_mode": {
    "name": "ipython",
    "version": 3
   },
   "file_extension": ".py",
   "mimetype": "text/x-python",
   "name": "python",
   "nbconvert_exporter": "python",
   "pygments_lexer": "ipython3",
   "version": "3.10.9"
  }
 },
 "nbformat": 4,
 "nbformat_minor": 5
}
