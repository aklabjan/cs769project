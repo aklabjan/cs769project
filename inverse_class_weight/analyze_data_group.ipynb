{
 "cells": [
  {
   "cell_type": "code",
   "execution_count": 1,
   "id": "1c0db580",
   "metadata": {},
   "outputs": [],
   "source": [
    "import pandas as pd\n",
    "import numpy as np"
   ]
  },
  {
   "cell_type": "code",
   "execution_count": 2,
   "id": "0194717d",
   "metadata": {},
   "outputs": [],
   "source": [
    "data = pd.read_csv(\"train.tsv\", sep = \"\\t\")"
   ]
  },
  {
   "cell_type": "code",
   "execution_count": 3,
   "id": "14ba0a47",
   "metadata": {},
   "outputs": [
    {
     "name": "stdout",
     "output_type": "stream",
     "text": [
      "                                                text class       id\n",
      "0  Now if he does off himself, everyone will thin...     2  ed00q6i\n",
      "1                     WHY THE FUCK IS BAYLESS ISOING     1  eezlygj\n",
      "2                        To make her feel threatened     1  ed7ypvh\n",
      "3                             Dirty Southern Wankers     1  ed0bdzj\n",
      "4  OmG pEyToN iSn'T gOoD eNoUgH tO hElP uS iN tHe...     0  edvnz26\n"
     ]
    }
   ],
   "source": [
    "data.columns = ['text', 'class', 'id']\n",
    "print(data.head(5))"
   ]
  },
  {
   "cell_type": "code",
   "execution_count": 4,
   "id": "1332912e",
   "metadata": {},
   "outputs": [
    {
     "data": {
      "text/plain": [
       "text     object\n",
       "class    object\n",
       "id       object\n",
       "dtype: object"
      ]
     },
     "execution_count": 4,
     "metadata": {},
     "output_type": "execute_result"
    }
   ],
   "source": [
    "data.dtypes"
   ]
  },
  {
   "cell_type": "code",
   "execution_count": 5,
   "id": "fe344876",
   "metadata": {},
   "outputs": [
    {
     "data": {
      "text/plain": [
       "array(['2', '1', '0', '3', '0,1,2', '0,1', '1,2', '0,3', '2,3', '1,3',\n",
       "       '0,2', '0,1,3', '0,2,3', '1,2,3'], dtype=object)"
      ]
     },
     "execution_count": 5,
     "metadata": {},
     "output_type": "execute_result"
    }
   ],
   "source": [
    "data['class'].unique()"
   ]
  },
  {
   "cell_type": "code",
   "execution_count": 6,
   "id": "ce22458f",
   "metadata": {},
   "outputs": [
    {
     "name": "stdout",
     "output_type": "stream",
     "text": [
      "                                                    text class       id\n",
      "0      Now if he does off himself, everyone will thin...     2  ed00q6i\n",
      "1                         WHY THE FUCK IS BAYLESS ISOING     1  eezlygj\n",
      "2                            To make her feel threatened     1  ed7ypvh\n",
      "3                                 Dirty Southern Wankers     1  ed0bdzj\n",
      "4      OmG pEyToN iSn'T gOoD eNoUgH tO hElP uS iN tHe...     0  edvnz26\n",
      "...                                                  ...   ...      ...\n",
      "46829  Added you mate well I’ve just got the bow and ...     3  edsb738\n",
      "46830  Always thought that was funny but is it a refe...     0  ee7fdou\n",
      "46831  What are you talking about? Anything bad that ...     1  efgbhks\n",
      "46832            More like a baptism, with sexy results!     3  ed1naf8\n",
      "46833                                    Enjoy the ride!     3  eecwmbq\n",
      "\n",
      "[46834 rows x 3 columns]\n"
     ]
    }
   ],
   "source": [
    "\n",
    "data['class'] = data['class'].str.split(',')\n",
    "\n",
    "# Explode the DataFrame to create separate rows for each class value\n",
    "data_exploded = data.explode('class')\n",
    "\n",
    "# Reset index (optional)\n",
    "data_exploded.reset_index(drop=True, inplace=True)\n",
    "\n",
    "# Display the resulting DataFrame\n",
    "print(data_exploded)\n"
   ]
  },
  {
   "cell_type": "code",
   "execution_count": 7,
   "id": "53a1a745",
   "metadata": {},
   "outputs": [],
   "source": [
    "data_exploded['class'] = data_exploded['class'].astype(int)"
   ]
  },
  {
   "cell_type": "code",
   "execution_count": 8,
   "id": "7c5d255b",
   "metadata": {},
   "outputs": [
    {
     "name": "stdout",
     "output_type": "stream",
     "text": [
      "5367\n",
      "9839\n",
      "14218\n",
      "17410\n"
     ]
    }
   ],
   "source": [
    "weight = []\n",
    "for i in range(4):\n",
    "    a = len(data_exploded[data_exploded['class'] == i])\n",
    "    wt = len(data_exploded)/(27*a)\n",
    "    weight.append(wt)\n",
    "    print(a)"
   ]
  },
  {
   "cell_type": "code",
   "execution_count": 9,
   "id": "b09cab53",
   "metadata": {
    "scrolled": true
   },
   "outputs": [
    {
     "data": {
      "text/plain": [
       "[0.32319593676031166,\n",
       " 0.17629765144756507,\n",
       " 0.12199976034551924,\n",
       " 0.09963196970663944]"
      ]
     },
     "execution_count": 9,
     "metadata": {},
     "output_type": "execute_result"
    }
   ],
   "source": [
    "weight"
   ]
  },
  {
   "cell_type": "code",
   "execution_count": 10,
   "id": "d93248d2",
   "metadata": {},
   "outputs": [
    {
     "data": {
      "text/plain": [
       "array([0.32319594, 0.17629765, 0.12199976, 0.09963197])"
      ]
     },
     "execution_count": 10,
     "metadata": {},
     "output_type": "execute_result"
    }
   ],
   "source": [
    "np.array(weight)"
   ]
  },
  {
   "cell_type": "code",
   "execution_count": null,
   "id": "5d29c764",
   "metadata": {},
   "outputs": [],
   "source": []
  }
 ],
 "metadata": {
  "kernelspec": {
   "display_name": "Python 3 (ipykernel)",
   "language": "python",
   "name": "python3"
  },
  "language_info": {
   "codemirror_mode": {
    "name": "ipython",
    "version": 3
   },
   "file_extension": ".py",
   "mimetype": "text/x-python",
   "name": "python",
   "nbconvert_exporter": "python",
   "pygments_lexer": "ipython3",
   "version": "3.9.6"
  }
 },
 "nbformat": 4,
 "nbformat_minor": 5
}
